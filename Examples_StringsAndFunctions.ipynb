{
 "metadata": {
  "language_info": {
   "codemirror_mode": {
    "name": "ipython",
    "version": 3
   },
   "file_extension": ".py",
   "mimetype": "text/x-python",
   "name": "python",
   "nbconvert_exporter": "python",
   "pygments_lexer": "ipython3",
   "version": "3.7.3-final"
  },
  "orig_nbformat": 2,
  "kernelspec": {
   "name": "python3",
   "display_name": "Python 3.7.3 64-bit (conda)",
   "metadata": {
    "interpreter": {
     "hash": "c1e95ec5d69d2cec95a6932bccd3a4e139eabbe6ae58dfb747c300ffd346fdaf"
    }
   }
  }
 },
 "nbformat": 4,
 "nbformat_minor": 2,
 "cells": [
  {
   "source": [
    "#### Example 1\n",
    "\n",
    "Write a function called unique_english_letters that takes the string word as a parameter. The function should return the total number of unique letters in the string. Uppercase and lowercase letters should be counted as different letters."
   ],
   "cell_type": "markdown",
   "metadata": {}
  },
  {
   "cell_type": "code",
   "execution_count": 1,
   "metadata": {},
   "outputs": [
    {
     "output_type": "stream",
     "name": "stdout",
     "text": [
      "4\n4\n"
     ]
    }
   ],
   "source": [
    "letters = \"ABCDEFGHIJKLMNOPQRSTUVWXYZabcdefghijklmnopqrstuvwxyz\"\n",
    "\n",
    "def unique_english_letters(word):\n",
    "  cnt = 0\n",
    "  for letter in letters:\n",
    "    if letter in word:\n",
    "      cnt += 1\n",
    "  return cnt\n",
    "\n",
    "print(unique_english_letters(\"mississippi\"))\n",
    "print(unique_english_letters(\"Apple\"))"
   ]
  },
  {
   "cell_type": "code",
   "execution_count": 15,
   "metadata": {},
   "outputs": [
    {
     "output_type": "stream",
     "name": "stdout",
     "text": [
      "pl\napple\n"
     ]
    }
   ],
   "source": [
    "def substring_between_letters(word, start, end):\n",
    "  if start in word and end in word:\n",
    "    return word[word.find(start)+1] + word[word.find(end) - 1]\n",
    "  else:\n",
    "    return word\n",
    "\n",
    "print(substring_between_letters(\"apple\", \"p\", \"e\"))\n",
    "print(substring_between_letters(\"apple\", \"p\", \"c\"))"
   ]
  },
  {
   "source": [
    "#### Example 2\n",
    "Create a function called x_length_words that takes a string named sentence and an integer named x as parameters. This function should return True if every word in sentence has a length greater than or equal to x."
   ],
   "cell_type": "markdown",
   "metadata": {}
  },
  {
   "cell_type": "code",
   "execution_count": 22,
   "metadata": {},
   "outputs": [
    {
     "output_type": "stream",
     "name": "stdout",
     "text": [
      "False\nTrue\n"
     ]
    }
   ],
   "source": [
    "def x_length_words(sentence, x):\n",
    "\n",
    "    \"\"\"\n",
    "    sentence is a string\n",
    "    x is an integer\n",
    "    Return True if every word in sentence has a length greater than or equal to x.\n",
    "    \"\"\"\n",
    "    for word in sentence.split():\n",
    "        if len(word) >= x:\n",
    "            return True\n",
    "        else:\n",
    "            return False\n",
    "# Uncomment these function calls to test your tip function:\n",
    "print(x_length_words(\"i like apples\", 2))\n",
    "# should print False\n",
    "print(x_length_words(\"he likes apples\", 2))"
   ]
  },
  {
   "source": [
    "#### Example 3\n",
    "\n",
    "Create a function named every_other_letter that takes a string named word as a parameter. The function should return a string containing every other letter in word."
   ],
   "cell_type": "markdown",
   "metadata": {}
  },
  {
   "cell_type": "code",
   "execution_count": 35,
   "metadata": {},
   "outputs": [
    {
     "output_type": "execute_result",
     "data": {
      "text/plain": [
       "'HloWrd'"
      ]
     },
     "metadata": {},
     "execution_count": 35
    }
   ],
   "source": [
    "def every_other_letter(word):\n",
    "    string = \"\"\n",
    "    # iterate through the length of word and add every other letter to string\n",
    "    for i in range(0, len(word), 2):\n",
    "        string += word[i]\n",
    "    return string\n",
    "every_other_letter(\"Hello World\")"
   ]
  },
  {
   "source": [
    "#### Example 4\n",
    "Write a function named reverse_string that has a string named word as a parameter. The function should return word in reverse."
   ],
   "cell_type": "markdown",
   "metadata": {}
  },
  {
   "cell_type": "code",
   "execution_count": 61,
   "metadata": {},
   "outputs": [
    {
     "output_type": "stream",
     "name": "stdout",
     "text": [
      "ymedacedoC\n!dlrow olleH\n\n"
     ]
    }
   ],
   "source": [
    "def reverse_string(word):\n",
    "  reverse = \"\"\n",
    "  for i in range(len(word)-1, -1, -1):\n",
    "    reverse += word[i]\n",
    "  return reverse\n",
    "\n",
    "print(reverse_string(\"Codecademy\"))\n",
    "print(reverse_string(\"Hello world!\"))\n",
    "print(reverse_string(\"\"))"
   ]
  },
  {
   "cell_type": "code",
   "execution_count": 63,
   "metadata": {},
   "outputs": [
    {
     "output_type": "execute_result",
     "data": {
      "text/plain": [
       "'keraT'"
      ]
     },
     "metadata": {},
     "execution_count": 63
    }
   ],
   "source": [
    "# Second approach\n",
    "word = 'Tarek'\n",
    "result = ''\n",
    "for letter in word:\n",
    "    result = letter + result\n",
    "result"
   ]
  },
  {
   "source": [
    "#### Example 5: Adding Exclamation"
   ],
   "cell_type": "markdown",
   "metadata": {}
  },
  {
   "cell_type": "code",
   "execution_count": 10,
   "metadata": {
    "tags": []
   },
   "outputs": [
    {
     "output_type": "execute_result",
     "data": {
      "text/plain": [
       "'run!!!!!!!!!!!!!!!!!'"
      ]
     },
     "metadata": {},
     "execution_count": 10
    }
   ],
   "source": [
    "# Approach 1\n",
    "word = \"run\"\n",
    "while len(word) < 20:\n",
    "    word += \"!\"\n",
    "word"
   ]
  },
  {
   "cell_type": "code",
   "execution_count": 13,
   "metadata": {},
   "outputs": [
    {
     "output_type": "execute_result",
     "data": {
      "text/plain": [
       "'The weather is beautiful to do outdoor activities'"
      ]
     },
     "metadata": {},
     "execution_count": 13
    }
   ],
   "source": [
    "# Approach 2\n",
    "word = \"The weather is beautiful to do outdoor activities\"\n",
    "if len(word) < 20:\n",
    "    word += (20 - len(word))*\"!\"\n",
    "else:\n",
    "    word = word\n",
    "word "
   ]
  },
  {
   "cell_type": "code",
   "execution_count": 14,
   "metadata": {},
   "outputs": [
    {
     "output_type": "stream",
     "name": "stdout",
     "text": [
      "The weather is beautiful to do outdoor activities\nrun!!!!!!!!!!!!!!!!!\n"
     ]
    }
   ],
   "source": [
    "# Write the function\n",
    "def add_exclamation(word):\n",
    "  if len(word) < 20:\n",
    "    return word + (20 - len(word))*\"!\"\n",
    "  else:\n",
    "    return word\n",
    "\n",
    "print(add_exclamation(\"The weather is beautiful to do outdoor activities\"))\n",
    "print(add_exclamation(\"run\"))"
   ]
  }
 ]
}