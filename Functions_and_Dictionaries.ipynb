{
 "metadata": {
  "language_info": {
   "codemirror_mode": {
    "name": "ipython",
    "version": 3
   },
   "file_extension": ".py",
   "mimetype": "text/x-python",
   "name": "python",
   "nbconvert_exporter": "python",
   "pygments_lexer": "ipython3",
   "version": "3.7.3-final"
  },
  "orig_nbformat": 2,
  "kernelspec": {
   "name": "python3",
   "display_name": "Python 3.7.3 64-bit ('base': conda)",
   "metadata": {
    "interpreter": {
     "hash": "c1e95ec5d69d2cec95a6932bccd3a4e139eabbe6ae58dfb747c300ffd346fdaf"
    }
   }
  }
 },
 "nbformat": 4,
 "nbformat_minor": 2,
 "cells": [
  {
   "source": [
    "## Values that are Keys"
   ],
   "cell_type": "markdown",
   "metadata": {}
  },
  {
   "cell_type": "code",
   "execution_count": 12,
   "metadata": {},
   "outputs": [
    {
     "output_type": "stream",
     "name": "stdout",
     "text": [
      "[1, 4]\n['a']\n"
     ]
    }
   ],
   "source": [
    "def values_that_are_keys(my_dictionary):\n",
    "    result = []\n",
    "    for key in my_dictionary:\n",
    "        if key in my_dictionary.values():\n",
    "            result.append(key)\n",
    "    return result\n",
    "# Test\n",
    "print(values_that_are_keys({1:100, 2:1, 3:4, 4:10}))\n",
    "# should print [1, 4]\n",
    "print(values_that_are_keys({\"a\":\"apple\", \"b\":\"a\", \"c\":100}))\n",
    "# should print [\"a\"]"
   ]
  },
  {
   "cell_type": "code",
   "execution_count": 13,
   "metadata": {},
   "outputs": [
    {
     "output_type": "execute_result",
     "data": {
      "text/plain": [
       "[1, 4]"
      ]
     },
     "metadata": {},
     "execution_count": 13
    }
   ],
   "source": [
    "# Testing an alternative method\n",
    "my_dictionary = {1:100, 2:1, 3:4, 4:10}\n",
    "keys = list(my_dictionary.keys())\n",
    "values = list(my_dictionary.values())\n",
    "result = []\n",
    "for key in keys:\n",
    "    if key in values:\n",
    "        result.append(key)\n",
    "result"
   ]
  },
  {
   "source": [
    "## The Key with the Largest Value"
   ],
   "cell_type": "markdown",
   "metadata": {}
  },
  {
   "cell_type": "code",
   "execution_count": 20,
   "metadata": {},
   "outputs": [
    {
     "output_type": "stream",
     "name": "stdout",
     "text": [
      "1\nc\n"
     ]
    }
   ],
   "source": [
    "# A function that returns the key with the largest value \n",
    "def max_key(my_dictionary):\n",
    "    vals = list(my_dictionary.values())\n",
    "    keys = list(my_dictionary.keys())\n",
    "    return keys[vals.index(max(vals))]\n",
    "  \n",
    "# Test\n",
    "print(max_key({1:100, 2:1, 3:4, 4:10}))\n",
    "# should print 1\n",
    "print(max_key({\"a\":100, \"b\":10, \"c\":1000}))\n",
    "# should print \"c\""
   ]
  },
  {
   "cell_type": "code",
   "execution_count": 23,
   "metadata": {},
   "outputs": [
    {
     "output_type": "stream",
     "name": "stdout",
     "text": [
      "1\nc\n"
     ]
    }
   ],
   "source": [
    "# Alternative method by NOT using the max() function\n",
    "def max_key(my_dictionary):\n",
    "    key_with_largest_val = \"\"\n",
    "    largest_val = float(\"-Inf\")\n",
    "    \n",
    "    for key, val in my_dictionary.items():\n",
    "        if largest_val < val:\n",
    "            largest_val = val\n",
    "            key_with_largest_val = key\n",
    "    return key_with_largest_val\n",
    "\n",
    "print(max_key({1:100, 2:1, 3:4, 4:10}))\n",
    "# should print 1\n",
    "print(max_key({\"a\":100, \"b\":10, \"c\":1000}))\n",
    "# should print \"c\""
   ]
  },
  {
   "source": [
    "## Length of Words"
   ],
   "cell_type": "markdown",
   "metadata": {}
  },
  {
   "cell_type": "code",
   "execution_count": 26,
   "metadata": {},
   "outputs": [
    {
     "output_type": "stream",
     "name": "stdout",
     "text": [
      "{'apple': 5, 'dog': 3, 'cat': 3}\n{'a': 1, '': 0}\n"
     ]
    }
   ],
   "source": [
    "# Write a function named word_length_dictionary that takes a list of strings named words as a parameter. The function should return a dictionary of key/value pairs where every key is a word in words and every value is the length of that word.\n",
    "def word_length_dictionary(words):\n",
    "  my_dict = {}\n",
    "  # Iterate over the words list, and assign each word to its length\n",
    "  for word in words:\n",
    "    my_dict[word] = len(word)\n",
    "  return my_dict\n",
    "# Test\n",
    "print(word_length_dictionary([\"apple\", \"dog\", \"cat\"]))\n",
    "# should print {\"apple\":5, \"dog\": 3, \"cat\":3}\n",
    "print(word_length_dictionary([\"a\", \"\"]))\n",
    "# should print {\"a\": 1, \"\": 0}"
   ]
  },
  {
   "cell_type": "code",
   "execution_count": 28,
   "metadata": {},
   "outputs": [
    {
     "output_type": "stream",
     "name": "stdout",
     "text": [
      "{'apple': 5, 'dog': 3, 'cat': 3}\n"
     ]
    }
   ],
   "source": [
    "# Method 2: Do not use for loops\n",
    "def word_length_dictionary2(words):\n",
    "    # Find the length of each word in the words list, and map these lengths to the word_len list\n",
    "    word_len = list(map(len, words))\n",
    "    # Create the word_length dictionary using list comprehension and the zip() function\n",
    "    word_length = {key: val for key, val in zip(words, word_len)}\n",
    "    return word_length\n",
    "# Test\n",
    "print(word_length_dictionary2([\"apple\", \"dog\", \"cat\"]))"
   ]
  },
  {
   "source": [
    "## Count the Number of Elements in a List"
   ],
   "cell_type": "markdown",
   "metadata": {}
  },
  {
   "cell_type": "code",
   "execution_count": 33,
   "metadata": {},
   "outputs": [
    {
     "output_type": "execute_result",
     "data": {
      "text/plain": [
       "{'apple': 2, 'cat': 1, 1: 1}"
      ]
     },
     "metadata": {},
     "execution_count": 33
    }
   ],
   "source": [
    "lst = [\"apple\", \"apple\", \"cat\", 1]\n",
    "my_dict = {}\n",
    "for ele in lst:\n",
    "    my_dict[ele] = lst.count(ele)\n",
    "my_dict"
   ]
  },
  {
   "source": [
    "## Unique Values in a Dictionary"
   ],
   "cell_type": "markdown",
   "metadata": {}
  },
  {
   "cell_type": "code",
   "execution_count": 12,
   "metadata": {},
   "outputs": [
    {
     "output_type": "stream",
     "name": "stdout",
     "text": [
      "2\n1\n"
     ]
    }
   ],
   "source": [
    "# Create a function named unique_values that takes a dictionary named my_dictionary as a parameter. The function should return the number of unique values in the dictionary.\n",
    "def unique_values(my_dictionary):\n",
    "    seen_values = []\n",
    "    for val in my_dictionary.values():\n",
    "        if val not in seen_values:\n",
    "            seen_values.append(val)\n",
    "    return len(seen_values)\n",
    "\n",
    "# Test\n",
    "print(unique_values({0:3, 1:1, 4:1, 5:3}))\n",
    "# should print 2\n",
    "print(unique_values({0:3, 1:3, 4:3, 5:3}))\n",
    "# should print 1"
   ]
  },
  {
   "cell_type": "code",
   "execution_count": 13,
   "metadata": {},
   "outputs": [
    {
     "output_type": "execute_result",
     "data": {
      "text/plain": [
       "2"
      ]
     },
     "metadata": {},
     "execution_count": 13
    }
   ],
   "source": [
    "# Method 2 using set() function to return only a list of unique values\n",
    "my_dict = {0:3, 1:1, 4:1, 5:3}\n",
    "vals = set(list(my_dict.values()))\n",
    "len(vals)"
   ]
  },
  {
   "source": [
    "## First Names that have their first letter of their Last Names the same "
   ],
   "cell_type": "markdown",
   "metadata": {}
  },
  {
   "cell_type": "code",
   "execution_count": 33,
   "metadata": {},
   "outputs": [
    {
     "output_type": "stream",
     "name": "stdout",
     "text": [
      "{'S': 4, 'L': 3}\n{'S': 7}\n"
     ]
    }
   ],
   "source": [
    "def count_first_letter(names):\n",
    "    \"\"\"\n",
    "    Input:\n",
    "    \n",
    "    names: a dictionary where the key is a last name and the value is a list of first names\n",
    "\n",
    "    Output:\n",
    "\n",
    "    A dictionary where each key is the first letter of a last name, and the value is the number of people whose      last name begins with that letter.\n",
    "    \"\"\"\n",
    "    # Begin by creating an empty dictionary named letters. Loop through the keys of names and access the first         letter of each of the key using key[0]. If that letter is not a key in letters, create a new key/value           pair where the key is key[0] and the value is the length of names[key]. If that letter is a key in letters,      simply add the length of names[key] to value associated with key[0] in letters.\n",
    "    \n",
    "    letters = {}\n",
    "    \n",
    "    for key in names:\n",
    "        if key[0] not in letters:\n",
    "            letters[key[0]] = len(names[key])\n",
    "        else:\n",
    "            letters[key[0]] += len(names[key])\n",
    "    return letters\n",
    "\n",
    "print(count_first_letter({\"Stark\": [\"Ned\", \"Robb\", \"Sansa\"], \"Snow\" : [\"Jon\"], \"Lannister\": [\"Jaime\", \"Cersei\", \"Tywin\"]}))\n",
    "# should print {\"S\": 4, \"L\": 3}\n",
    "print(count_first_letter({\"Stark\": [\"Ned\", \"Robb\", \"Sansa\"], \"Snow\" : [\"Jon\"], \"Sannister\": [\"Jaime\", \"Cersei\", \"Tywin\"]}))\n",
    "# should print {\"S\": 7}"
   ]
  }
 ]
}