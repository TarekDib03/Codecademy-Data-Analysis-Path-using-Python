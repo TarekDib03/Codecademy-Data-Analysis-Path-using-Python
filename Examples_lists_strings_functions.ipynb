{
 "metadata": {
  "language_info": {
   "codemirror_mode": {
    "name": "ipython",
    "version": 3
   },
   "file_extension": ".py",
   "mimetype": "text/x-python",
   "name": "python",
   "nbconvert_exporter": "python",
   "pygments_lexer": "ipython3",
   "version": "3.7.3-final"
  },
  "orig_nbformat": 2,
  "kernelspec": {
   "name": "python3",
   "display_name": "Python 3.7.3 64-bit (conda)",
   "metadata": {
    "interpreter": {
     "hash": "c1e95ec5d69d2cec95a6932bccd3a4e139eabbe6ae58dfb747c300ffd346fdaf"
    }
   }
  }
 },
 "nbformat": 4,
 "nbformat_minor": 2,
 "cells": [
  {
   "cell_type": "code",
   "execution_count": null,
   "metadata": {},
   "outputs": [],
   "source": [
    "def max_num(num1, num2, num3):\n",
    "  maxNum = num1\n",
    "  numList = [num1, num2, num3]\n",
    "  for num in numList:\n",
    "    if num > maxNum:\n",
    "      maxNum = num\n",
    "  if numList.count(maxNum) > 1:\n",
    "    return \"It is a tie\"\n",
    "  return maxNum\n",
    "# Uncomment these function calls to test your max_num function:\n",
    "print(max_num(-10, 0, 10))\n",
    "# should print 10\n",
    "print(max_num(-10, 5, -30))\n",
    "# should print 5\n",
    "print(max_num(-5, -10, -10))\n",
    "# should print -5\n",
    "print(max_num(2, 3, 3))\n",
    "# should print \"It's a tie!\""
   ]
  },
  {
   "cell_type": "code",
   "execution_count": null,
   "metadata": {},
   "outputs": [],
   "source": [
    "# Get the indices of tied maximum values\n",
    "num1, num2, num3 = (2, 3, 3)\n",
    "my_list = [num1, num2, num3]\n",
    "maxval = max(2, 3, 3)\n",
    "indices = [index for index, val in enumerate(my_list) if val == maxval]\n",
    "indices\n"
   ]
  },
  {
   "cell_type": "code",
   "execution_count": null,
   "metadata": {},
   "outputs": [],
   "source": [
    "# Find median of values\n",
    "def middle_element(lst):\n",
    "    # First sort the list\n",
    "    lst.sort()\n",
    "    # Check if the lenght of list is even or odd\n",
    "    if len(lst) % 2 == 0:\n",
    "        return (lst[int(len(lst)/2)] + lst[int(len(lst)/2) - 1]) / 2\n",
    "    else:\n",
    "        return lst[int(len(lst)/2)]\n",
    "\n",
    "middle_element([1,5,6,10,7,9,9,11,17,21])"
   ]
  },
  {
   "cell_type": "code",
   "execution_count": 22,
   "metadata": {},
   "outputs": [
    {
     "output_type": "stream",
     "name": "stdout",
     "text": [
      "9020\n"
     ]
    }
   ],
   "source": [
    "def over_nine_thousand(lst):\n",
    "  power_total = 0\n",
    "  for power in lst:\n",
    "    power_total += power\n",
    "    if power_total > 9000:\n",
    "      break\n",
    "  return power_total\n",
    "\n",
    "print(over_nine_thousand([8000, 900, 120, 5000]))"
   ]
  },
  {
   "cell_type": "code",
   "execution_count": 24,
   "metadata": {},
   "outputs": [],
   "source": [
    "def max_num(nums):\n",
    "  maxNum = nums[0]\n",
    "  for num in nums:\n",
    "    if num > maxNum:\n",
    "      maxNum = num\n",
    "  return maxNum"
   ]
  },
  {
   "cell_type": "code",
   "execution_count": 25,
   "metadata": {},
   "outputs": [
    {
     "output_type": "execute_result",
     "data": {
      "text/plain": [
       "[0, 2, 3]"
      ]
     },
     "metadata": {},
     "execution_count": 25
    }
   ],
   "source": [
    "# A function that returns the indices in two equally sized lists where the numbers match\n",
    "\n",
    "def same_values(lst1, lst2):\n",
    "    \"\"\"\n",
    "    1. Create a new list to store our matching indices\n",
    "    2. Loop through each index to the end of either of our lists\n",
    "    3. Within the loop, check if our first list at the current index is equal to the second list at the current         index. If so, append the index where they matched\n",
    "    4. Return a list of indices\n",
    "    \"\"\"\n",
    "    new_lst = []\n",
    "    for i in range(len(lst1)):\n",
    "        if lst1[i] == lst2[i]:\n",
    "            new_lst.append(i)\n",
    "    return new_lst\n",
    "\n",
    "same_values([5, 1, -10, 3, 3], [5, 10, -10, 3, 5])"
   ]
  },
  {
   "cell_type": "code",
   "execution_count": 26,
   "metadata": {},
   "outputs": [
    {
     "output_type": "stream",
     "name": "stdout",
     "text": [
      "1\n2\n3\n"
     ]
    }
   ],
   "source": [
    "lst = [3, 2, 1]\n",
    "for i in range(len(lst)):\n",
    "    print(lst[-1-i])"
   ]
  },
  {
   "cell_type": "code",
   "execution_count": 27,
   "metadata": {},
   "outputs": [
    {
     "output_type": "stream",
     "name": "stdout",
     "text": [
      "True\nFalse\n"
     ]
    }
   ],
   "source": [
    "def reversed_list(lst1, lst2):\n",
    "    \"\"\"\n",
    "    1. Loop through every index in one of the lists from beginning to end\n",
    "    2. Within the loop, compare the element in the first list at the current index against the element at the           second list’s last index minus the current index. If there was a mismatch, then the lists aren’t reversed        and we can return False\n",
    "    3. If the loop ended successfully, then we know the lists are reversed and we can return True.\n",
    "    \"\"\"\n",
    "    for i in range(len(lst1)):\n",
    "        if lst1[i] != lst2[-1-i]:\n",
    "            return False\n",
    "    return True\n",
    "\n",
    "print(reversed_list([1, 2, 3], [3, 2, 1]))\n",
    "print(reversed_list([1, 5, 3], [3, 2, 1]))"
   ]
  },
  {
   "cell_type": "code",
   "execution_count": 38,
   "metadata": {},
   "outputs": [
    {
     "output_type": "execute_result",
     "data": {
      "text/plain": [
       "5"
      ]
     },
     "metadata": {},
     "execution_count": 38
    }
   ],
   "source": [
    "# Length of a string\n",
    "def get_length(string):\n",
    "  length = 0\n",
    "  for letter in string:\n",
    "    length += 1\n",
    "  return length\n",
    "\n",
    "get_length(\"Tarek\")"
   ]
  },
  {
   "cell_type": "code",
   "execution_count": 39,
   "metadata": {},
   "outputs": [
    {
     "output_type": "execute_result",
     "data": {
      "text/plain": [
       "['n', 'a']"
      ]
     },
     "metadata": {},
     "execution_count": 39
    }
   ],
   "source": [
    "# Common letters\n",
    "def common_letters(string_one, string_two):\n",
    "  unique_letters = [letter for letter in set(string_one) if letter in string_two]\n",
    "  return unique_letters\n",
    "\n",
    "common_letters(\"San Francisco\", \"Manhattan\")"
   ]
  },
  {
   "cell_type": "code",
   "execution_count": 40,
   "metadata": {},
   "outputs": [
    {
     "output_type": "execute_result",
     "data": {
      "text/plain": [
       "['a', 'n']"
      ]
     },
     "metadata": {},
     "execution_count": 40
    }
   ],
   "source": [
    "def common_letters(str1, str2):\n",
    "    lst = [letter for letter in str1 if letter in str2]\n",
    "    for letter in str1:\n",
    "        if letter in str2 and letter not in lst:\n",
    "            lst.append(letter)\n",
    "    return lst\n",
    "\n",
    "common_letters(\"San Francisco\", \"Manhattan\")"
   ]
  },
  {
   "cell_type": "code",
   "execution_count": 53,
   "metadata": {},
   "outputs": [
    {
     "output_type": "execute_result",
     "data": {
      "text/plain": [
       "['a', 'n']"
      ]
     },
     "metadata": {},
     "execution_count": 53
    }
   ],
   "source": [
    "str1 = \"San Francisco\"\n",
    "str2 = \"Manhattan\"\n",
    "\n",
    "lst = [letter for letter in str1 if letter in str2]\n",
    "my_list = []\n",
    "for letter in lst:\n",
    "    if letter not in my_list:\n",
    "        my_list.append(letter)\n",
    "my_list "
   ]
  },
  {
   "cell_type": "code",
   "execution_count": 67,
   "metadata": {},
   "outputs": [
    {
     "output_type": "execute_result",
     "data": {
      "text/plain": [
       "'TaDee'"
      ]
     },
     "metadata": {},
     "execution_count": 67
    }
   ],
   "source": [
    "def username_generator(first_name, last_name):\n",
    "    username = first_name[:3] + last_name[:4]\n",
    "    return username\n",
    "\n",
    "username_generator(\"Ta\", \"Dee\")"
   ]
  },
  {
   "cell_type": "code",
   "execution_count": 73,
   "metadata": {},
   "outputs": [
    {
     "output_type": "execute_result",
     "data": {
      "text/plain": [
       "'pAbeSim'"
      ]
     },
     "metadata": {},
     "execution_count": 73
    }
   ],
   "source": [
    "username = \"AbeSimp\"\n",
    "username[-1] + username[:-1]"
   ]
  },
  {
   "cell_type": "code",
   "execution_count": 76,
   "metadata": {},
   "outputs": [
    {
     "output_type": "stream",
     "name": "stdout",
     "text": [
      "My favorite icecream ischocolate.\n"
     ]
    }
   ],
   "source": [
    "def tell_me_about_icecream(favorite_icecream):\n",
    "  response = \"My favorite icecream is\" + favorite_icecream + \".\"\n",
    "  print(response)\n",
    " \n",
    "tell_me_about_icecream(\"chocolate\")"
   ]
  },
  {
   "cell_type": "code",
   "execution_count": 1,
   "metadata": {},
   "outputs": [
    {
     "output_type": "stream",
     "name": "stdout",
     "text": [
      "['Lorde', 'Mistral', 'Toomer', 'Qi', 'Whitman', 'Silverstein', 'Boullosa', 'Suraiyya', 'Hughes', 'Rich', 'Giovanni']\n"
     ]
    }
   ],
   "source": [
    "authors = \"Audre Lorde,Gabriela Mistral,Jean Toomer,An Qi,Walt Whitman,Shel Silverstein,Carmen Boullosa,Kamala Suraiyya,Langston Hughes,Adrienne Rich,Nikki Giovanni\"\n",
    "\n",
    "author_names = authors.split(\",\")\n",
    "\n",
    "author_last_names = []\n",
    "for name in author_names:\n",
    "  author_last_names.append(name.split()[-1])\n",
    "\n",
    "print(author_last_names)"
   ]
  },
  {
   "cell_type": "code",
   "execution_count": 2,
   "metadata": {},
   "outputs": [
    {
     "output_type": "stream",
     "name": "stdout",
     "text": [
      "Always\nin the middle of our bloodiest battles\nyou lay down your arms\nlike flowering mines\n\nto conquer me home.\n"
     ]
    }
   ],
   "source": [
    "love_maybe_lines = ['Always    ', '     in the middle of our bloodiest battles  ', 'you lay down your arms', '           like flowering mines    ','\\n' ,'   to conquer me home.    ']\n",
    "\n",
    "# Initialize an empty list\n",
    "love_maybe_lines_stripped = []\n",
    "# Iterate over love_maybe_lines to strip white spaces using strip() method\n",
    "for line in love_maybe_lines:\n",
    "  love_maybe_lines_stripped.append(line.strip())\n",
    "\n",
    "# Join text using .join() method. Print each line of the poem in a new line\n",
    "love_maybe_full = '\\n'.join(love_maybe_lines_stripped)\n",
    "print(love_maybe_full)\n"
   ]
  },
  {
   "source": [
    "#### String Maninpulation Mini Project Example"
   ],
   "cell_type": "markdown",
   "metadata": {}
  },
  {
   "cell_type": "code",
   "execution_count": 3,
   "metadata": {},
   "outputs": [
    {
     "output_type": "stream",
     "name": "stdout",
     "text": [
      "Afterimages:Audre Lorde:1997,  The Shadow:William Carlos Williams:1915, Ecstasy:Gabriela Mistral:1925,   Georgia Dusk:Jean Toomer:1923,   Parting Before Daybreak:An Qi:2014, The Untold Want:Walt Whitman:1871, Mr. Grumpledump's Song:Shel Silverstein:2004, Angel Sound Mexico City:Carmen Boullosa:2013, In Love:Kamala Suraiyya:1965, Dream Variations:Langston Hughes:1994, Dreamwood:Adrienne Rich:1987\n"
     ]
    }
   ],
   "source": [
    "highlighted_poems = \"Afterimages:Audre Lorde:1997,  The Shadow:William Carlos Williams:1915, Ecstasy:Gabriela Mistral:1925,   Georgia Dusk:Jean Toomer:1923,   Parting Before Daybreak:An Qi:2014, The Untold Want:Walt Whitman:1871, Mr. Grumpledump's Song:Shel Silverstein:2004, Angel Sound Mexico City:Carmen Boullosa:2013, In Love:Kamala Suraiyya:1965, Dream Variations:Langston Hughes:1994, Dreamwood:Adrienne Rich:1987\"\n",
    "print(highlighted_poems)"
   ]
  },
  {
   "cell_type": "code",
   "execution_count": 5,
   "metadata": {},
   "outputs": [
    {
     "output_type": "stream",
     "name": "stdout",
     "text": [
      "['Afterimages:Audre Lorde:1997', '  The Shadow:William Carlos Williams:1915', ' Ecstasy:Gabriela Mistral:1925', '   Georgia Dusk:Jean Toomer:1923', '   Parting Before Daybreak:An Qi:2014', ' The Untold Want:Walt Whitman:1871', \" Mr. Grumpledump's Song:Shel Silverstein:2004\", ' Angel Sound Mexico City:Carmen Boullosa:2013', ' In Love:Kamala Suraiyya:1965', ' Dream Variations:Langston Hughes:1994', ' Dreamwood:Adrienne Rich:1987']\n"
     ]
    }
   ],
   "source": [
    "# Split at comma being the delimiter\n",
    "highlighted_poems_list = highlighted_poems.split(\",\")\n",
    "print(highlighted_poems_list)"
   ]
  },
  {
   "cell_type": "code",
   "execution_count": 7,
   "metadata": {},
   "outputs": [
    {
     "output_type": "stream",
     "name": "stdout",
     "text": [
      "['Afterimages:Audre Lorde:1997', 'The Shadow:William Carlos Williams:1915', 'Ecstasy:Gabriela Mistral:1925', 'Georgia Dusk:Jean Toomer:1923', 'Parting Before Daybreak:An Qi:2014', 'The Untold Want:Walt Whitman:1871', \"Mr. Grumpledump's Song:Shel Silverstein:2004\", 'Angel Sound Mexico City:Carmen Boullosa:2013', 'In Love:Kamala Suraiyya:1965', 'Dream Variations:Langston Hughes:1994', 'Dreamwood:Adrienne Rich:1987']\n"
     ]
    }
   ],
   "source": [
    "# Strip the white space\n",
    "highlighted_poems_stripped = []\n",
    "for info in highlighted_poems_list:\n",
    "  highlighted_poems_stripped.append(info.strip())\n",
    "print(highlighted_poems_stripped)"
   ]
  },
  {
   "cell_type": "code",
   "execution_count": 8,
   "metadata": {},
   "outputs": [
    {
     "output_type": "stream",
     "name": "stdout",
     "text": [
      "[['Afterimages', 'Audre Lorde', '1997'], ['The Shadow', 'William Carlos Williams', '1915'], ['Ecstasy', 'Gabriela Mistral', '1925'], ['Georgia Dusk', 'Jean Toomer', '1923'], ['Parting Before Daybreak', 'An Qi', '2014'], ['The Untold Want', 'Walt Whitman', '1871'], [\"Mr. Grumpledump's Song\", 'Shel Silverstein', '2004'], ['Angel Sound Mexico City', 'Carmen Boullosa', '2013'], ['In Love', 'Kamala Suraiyya', '1965'], ['Dream Variations', 'Langston Hughes', '1994'], ['Dreamwood', 'Adrienne Rich', '1987']]\n"
     ]
    }
   ],
   "source": [
    "# Iterate through highlighted_poems_stripped and split each string around the : characters. \n",
    "# Data structure is list of lists. Each list is info about each poem [title, author, year]\n",
    "highlighted_poems_details =[]\n",
    "for poem in highlighted_poems_stripped:\n",
    "  highlighted_poems_details.append(poem.split(\":\"))\n",
    "print(highlighted_poems_details)"
   ]
  },
  {
   "cell_type": "code",
   "execution_count": 10,
   "metadata": {},
   "outputs": [
    {
     "output_type": "stream",
     "name": "stdout",
     "text": [
      "['Afterimages', 'The Shadow', 'Ecstasy', 'Georgia Dusk', 'Parting Before Daybreak', 'The Untold Want', \"Mr. Grumpledump's Song\", 'Angel Sound Mexico City', 'In Love', 'Dream Variations', 'Dreamwood']\n['Audre Lorde', 'William Carlos Williams', 'Gabriela Mistral', 'Jean Toomer', 'An Qi', 'Walt Whitman', 'Shel Silverstein', 'Carmen Boullosa', 'Kamala Suraiyya', 'Langston Hughes', 'Adrienne Rich']\n['1997', '1915', '1925', '1923', '2014', '1871', '2004', '2013', '1965', '1994', '1987']\n"
     ]
    }
   ],
   "source": [
    "titles = []\n",
    "poets = []\n",
    "dates = []\n",
    "\n",
    "# Iterate through highlighted_poems_details and for each list in the list append the appropriate elements into the lists titles, poets, and dates.\n",
    "for info in highlighted_poems_details:\n",
    "    titles.append(info[0])\n",
    "    poets.append(info[1])\n",
    "    dates.append(info[2])\n",
    "\n",
    "print(titles)\n",
    "print(poets)\n",
    "print(dates)"
   ]
  },
  {
   "cell_type": "code",
   "execution_count": 11,
   "metadata": {},
   "outputs": [
    {
     "output_type": "stream",
     "name": "stdout",
     "text": [
      "The poem Afterimages was published by Audre Lorde in 1997\nThe poem The Shadow was published by William Carlos Williams in 1915\nThe poem Ecstasy was published by Gabriela Mistral in 1925\nThe poem Georgia Dusk was published by Jean Toomer in 1923\nThe poem Parting Before Daybreak was published by An Qi in 2014\nThe poem The Untold Want was published by Walt Whitman in 1871\nThe poem Mr. Grumpledump's Song was published by Shel Silverstein in 2004\nThe poem Angel Sound Mexico City was published by Carmen Boullosa in 2013\nThe poem In Love was published by Kamala Suraiyya in 1965\nThe poem Dream Variations was published by Langston Hughes in 1994\nThe poem Dreamwood was published by Adrienne Rich in 1987\n"
     ]
    }
   ],
   "source": [
    "# write a for loop that uses .format() to print out the following string for each poem: The poem TITLE was published by POET in DATE.\n",
    "for i in range(len(titles)):\n",
    "  print(\"The poem {} was published by {} in {}\".format(titles[i], poets[i], dates[i]))"
   ]
  }
 ]
}