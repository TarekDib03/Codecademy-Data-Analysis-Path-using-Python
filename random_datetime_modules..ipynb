{
 "metadata": {
  "language_info": {
   "codemirror_mode": {
    "name": "ipython",
    "version": 3
   },
   "file_extension": ".py",
   "mimetype": "text/x-python",
   "name": "python",
   "nbconvert_exporter": "python",
   "pygments_lexer": "ipython3",
   "version": "3.7.3-final"
  },
  "orig_nbformat": 2,
  "kernelspec": {
   "name": "python3",
   "display_name": "Python 3.7.3 64-bit (conda)",
   "metadata": {
    "interpreter": {
     "hash": "c1e95ec5d69d2cec95a6932bccd3a4e139eabbe6ae58dfb747c300ffd346fdaf"
    }
   }
  }
 },
 "nbformat": 4,
 "nbformat_minor": 2,
 "cells": [
  {
   "cell_type": "code",
   "execution_count": 3,
   "metadata": {},
   "outputs": [
    {
     "output_type": "stream",
     "name": "stdout",
     "text": [
      "[96, 55, 2, 91, 74, 89, 78, 16, 16, 49, 52, 12, 98, 59, 69, 62, 22, 69, 80, 6, 55, 62, 78, 52, 29, 22, 71, 75, 41, 99, 90, 64, 40, 68, 2, 31, 1, 30, 16, 79, 72, 31, 54, 23, 70, 69, 71, 2, 36, 39, 98, 50, 88, 76, 53, 32, 45, 9, 3, 1, 69, 70, 73, 56, 56, 97, 51, 53, 97, 46, 34, 44, 63, 97, 63, 50, 9, 22, 3, 83, 57, 22, 69, 28, 35, 87, 13, 8, 16, 73, 94, 63, 93, 65, 1, 45, 61, 33, 30, 5, 82]\n"
     ]
    }
   ],
   "source": [
    "import random\n",
    "random_list = []\n",
    "random_list = [random.randint(1,100) for n in range(101)]\n",
    "print(random_list)"
   ]
  },
  {
   "cell_type": "code",
   "execution_count": 5,
   "metadata": {},
   "outputs": [
    {
     "output_type": "execute_result",
     "data": {
      "text/plain": [
       "70"
      ]
     },
     "metadata": {},
     "execution_count": 5
    }
   ],
   "source": [
    "# Select a random number from the random_list\n",
    "random.choice(random_list)"
   ]
  },
  {
   "cell_type": "code",
   "execution_count": 8,
   "metadata": {},
   "outputs": [
    {
     "output_type": "execute_result",
     "data": {
      "text/plain": [
       "722"
      ]
     },
     "metadata": {},
     "execution_count": 8
    }
   ],
   "source": [
    "random.randint(1,1000)"
   ]
  },
  {
   "cell_type": "code",
   "execution_count": 10,
   "metadata": {},
   "outputs": [
    {
     "output_type": "execute_result",
     "data": {
      "text/plain": [
       "[<matplotlib.lines.Line2D at 0x150b3f98470>]"
      ]
     },
     "metadata": {},
     "execution_count": 10
    },
    {
     "output_type": "display_data",
     "data": {
      "text/plain": "<Figure size 432x288 with 1 Axes>",
      "image/png": "[encoded data removed]"
     },
     "metadata": {
      "needs_background": "light"
     }
    }
   ],
   "source": [
    "from matplotlib import pyplot as plt\n",
    "import random\n",
    "numbers_a = range(1, 13)\n",
    "numbers_b = random.sample(range(1000), 12)\n",
    "plt.plot(numbers_a, numbers_b)"
   ]
  },
  {
   "cell_type": "code",
   "execution_count": 11,
   "metadata": {},
   "outputs": [
    {
     "output_type": "execute_result",
     "data": {
      "text/plain": [
       "[370, 619, 299, 496, 628, 72, 497, 89, 432, 870, 249, 833]"
      ]
     },
     "metadata": {},
     "execution_count": 11
    }
   ],
   "source": [
    "numbers_b"
   ]
  },
  {
   "cell_type": "code",
   "execution_count": 4,
   "metadata": {},
   "outputs": [
    {
     "output_type": "execute_result",
     "data": {
      "text/plain": [
       "datetime.datetime(1978, 3, 21, 10, 30, 10)"
      ]
     },
     "metadata": {},
     "execution_count": 4
    }
   ],
   "source": [
    "from datetime import datetime\n",
    "birthday = datetime(1978, 3, 21, 10, 30, 10)\n",
    "birthday"
   ]
  },
  {
   "cell_type": "code",
   "execution_count": 5,
   "metadata": {},
   "outputs": [
    {
     "output_type": "stream",
     "name": "stdout",
     "text": [
      "1978\n3\n21\n1\n"
     ]
    }
   ],
   "source": [
    "print(birthday.year)\n",
    "print(birthday.month)\n",
    "print(birthday.day)\n",
    "print(birthday.weekday())"
   ]
  },
  {
   "cell_type": "code",
   "execution_count": 6,
   "metadata": {},
   "outputs": [],
   "source": [
    "parsed_date = datetime.strptime('Mar 21, 1978', '%b %d, %Y')"
   ]
  },
  {
   "cell_type": "code",
   "execution_count": 7,
   "metadata": {},
   "outputs": [
    {
     "output_type": "execute_result",
     "data": {
      "text/plain": [
       "1978"
      ]
     },
     "metadata": {},
     "execution_count": 7
    }
   ],
   "source": [
    "parsed_date.year"
   ]
  },
  {
   "cell_type": "code",
   "execution_count": 8,
   "metadata": {},
   "outputs": [
    {
     "output_type": "execute_result",
     "data": {
      "text/plain": [
       "'Apr 24, 2021'"
      ]
     },
     "metadata": {},
     "execution_count": 8
    }
   ],
   "source": [
    "date_string = datetime.strftime(datetime.now(), '%b %d, %Y')\n",
    "date_string"
   ]
  },
  {
   "cell_type": "code",
   "execution_count": null,
   "metadata": {},
   "outputs": [],
   "source": []
  }
 ]
}