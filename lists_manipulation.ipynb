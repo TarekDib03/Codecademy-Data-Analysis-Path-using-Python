{
 "metadata": {
  "language_info": {
   "codemirror_mode": {
    "name": "ipython",
    "version": 3
   },
   "file_extension": ".py",
   "mimetype": "text/x-python",
   "name": "python",
   "nbconvert_exporter": "python",
   "pygments_lexer": "ipython3",
   "version": "3.7.3-final"
  },
  "orig_nbformat": 2,
  "kernelspec": {
   "name": "python3",
   "display_name": "Python 3.7.3 64-bit (conda)",
   "metadata": {
    "interpreter": {
     "hash": "c1e95ec5d69d2cec95a6932bccd3a4e139eabbe6ae58dfb747c300ffd346fdaf"
    }
   }
  }
 },
 "nbformat": 4,
 "nbformat_minor": 2,
 "cells": [
  {
   "cell_type": "code",
   "execution_count": 2,
   "metadata": {},
   "outputs": [
    {
     "output_type": "stream",
     "name": "stdout",
     "text": [
      "Team 0 are persons [4, 8, 12, 16, 20, 24, 28]\nTeam 1 are persons [1, 5, 9, 13, 17, 21, 25]\nTeam 2 are persons [2, 6, 10, 14, 18, 22, 26]\nTeam 3 are persons [3, 7, 11, 15, 19, 23, 27]\n"
     ]
    }
   ],
   "source": [
    "team = []\n",
    "# Iterate over the 4 teams to create 4 empty lists referring to each of the 4 teams\n",
    "for i in range(4):\n",
    "    team.append([])\n",
    "# Iterate over the 28 players. Then check to which team each person belongs to\n",
    "for person in range(1, 29):\n",
    "    for i in range(4):\n",
    "        if person % 4 == i:\n",
    "            team[i].append(person)\n",
    "# Print the team number with a list of persons belonging to each team\n",
    "for i in range(4):\n",
    "    print(\"Team {} are persons {}\".format(i, team[i])) "
   ]
  },
  {
   "cell_type": "code",
   "execution_count": 20,
   "metadata": {},
   "outputs": [
    {
     "output_type": "error",
     "ename": "SyntaxError",
     "evalue": "EOL while scanning string literal (<ipython-input-20-8907fbd58759>, line 1)",
     "traceback": [
      "\u001b[1;36m  File \u001b[1;32m\"<ipython-input-20-8907fbd58759>\"\u001b[1;36m, line \u001b[1;32m1\u001b[0m\n\u001b[1;33m    answer = \"is_this_an_error'\u001b[0m\n\u001b[1;37m                               ^\u001b[0m\n\u001b[1;31mSyntaxError\u001b[0m\u001b[1;31m:\u001b[0m EOL while scanning string literal\n"
     ]
    }
   ],
   "source": [
    "answer = \"is_this_an_error'"
   ]
  },
  {
   "cell_type": "code",
   "execution_count": 4,
   "metadata": {},
   "outputs": [
    {
     "output_type": "execute_result",
     "data": {
      "text/plain": [
       "7"
      ]
     },
     "metadata": {},
     "execution_count": 4
    }
   ],
   "source": [
    "import random\n",
    "random_number = random.randint(1, 20)\n",
    "random_number"
   ]
  },
  {
   "cell_type": "code",
   "execution_count": 5,
   "metadata": {},
   "outputs": [
    {
     "output_type": "execute_result",
     "data": {
      "text/plain": [
       "True"
      ]
     },
     "metadata": {},
     "execution_count": 5
    }
   ],
   "source": [
    "l = [\"Tarek\", 88]\n",
    "\"Tarek\" in l"
   ]
  },
  {
   "cell_type": "code",
   "execution_count": 6,
   "metadata": {},
   "outputs": [
    {
     "output_type": "stream",
     "name": "stdout",
     "text": [
      "[['physics', 98], ['calculus', 97], ['poetry', 85], ['history', 88]]\n[['physics', 98], ['calculus', 97], ['poetry', 85], ['history', 88], ['Computer Science', 100]]\n[['physics', 98], ['calculus', 97], ['poetry', 85], ['history', 88], ['Computer Science', 100], ['Visual Arts', 93]]\n5 98  \n[['physics', 98], ['calculus', 97], ['poetry', 85], ['history', 88], ['Computer Science', 100], ['Visual Arts', 98]]\n \n[['physics', 98], ['calculus', 97], ['poetry'], ['history', 88], ['Computer Science', 100], ['Visual Arts', 98]]\n[['physics', 98], ['calculus', 97], ['poetry', 'Pass'], ['history', 88], ['Computer Science', 100], ['Visual Arts', 98]]\n"
     ]
    }
   ],
   "source": [
    "ast_semester_gradebook = [(\"politics\", 80), (\"latin\", 96), (\"dance\", 97), (\"architecture\", 65)]\n",
    "\n",
    "# Your code below: \n",
    "subjects = [\"physics\", \"calculus\", \"poetry\", \"history\"]\n",
    "\n",
    "grades = [98, 97, 85, 88]\n",
    "\n",
    "gradebook = [list(a) for a in zip(subjects, grades)]\n",
    "print(gradebook)\n",
    "\n",
    "gradebook.append([\"Computer Science\", 100])\n",
    "print(gradebook)\n",
    "\n",
    "gradebook.append([\"Visual Arts\", 93])\n",
    "print(gradebook)\n",
    "for row in gradebook:\n",
    "  if \"Visual Arts\" in row:\n",
    "    index = gradebook.index(row)\n",
    "    score = row[1] + 5\n",
    "  \n",
    "gradebook[index][1] = score\n",
    "print(index, score, end = ' ')\n",
    "print(' ')\n",
    "print(gradebook)\n",
    "print(' ')\n",
    "\n",
    "for row in gradebook:\n",
    "  if \"poetry\" in row:\n",
    "    index = gradebook.index(row)\n",
    "\n",
    "gradebook[index].remove(85)\n",
    "print(gradebook)\n",
    "gradebook[index].append(\"Pass\")\n",
    "print(gradebook)"
   ]
  },
  {
   "cell_type": "code",
   "execution_count": 9,
   "metadata": {},
   "outputs": [
    {
     "output_type": "stream",
     "name": "stdout",
     "text": [
      "['Machine Learning', 'SQL', 'Pandas', 'Statistics']\n"
     ]
    }
   ],
   "source": [
    "data_science_topics = [\"Machine Learning\", \"SQL\", \"Pandas\", \"Algorithms\", \"Statistics\", \"Python 3\"]\n",
    "\n",
    "# Remove Python 3 and Algorithms from the above list using a for loop and if statement, and the list method pop()\n",
    "for ele in data_science_topics:\n",
    "    if ele == \"Python 3\" or ele == \"Algorithms\":\n",
    "        data_science_topics.pop(data_science_topics.index(ele))\n",
    "\n",
    "print(data_science_topics)"
   ]
  },
  {
   "cell_type": "code",
   "execution_count": 1,
   "metadata": {},
   "outputs": [
    {
     "output_type": "stream",
     "name": "stdout",
     "text": [
      "['pants', 'pants']\n"
     ]
    }
   ],
   "source": [
    "suitcase = [\"shirt\", \"shirt\", \"pants\", \"pants\", \"pajamas\", \"books\"]\n",
    "middle = []\n",
    "indices = [index for index, ele in enumerate(suitcase) if ele == 'pants']\n",
    "for index in indices:\n",
    "  middle.append(suitcase[index])\n",
    "\n",
    "print(middle)"
   ]
  },
  {
   "cell_type": "code",
   "execution_count": 2,
   "metadata": {},
   "outputs": [
    {
     "output_type": "stream",
     "name": "stdout",
     "text": [
      "['19th Century Bed Frame', 'dresser', 'dresser', 'headboard', 'king bed', 'king bed', 'nightstand', 'nightstand', 'pillow', 'pillow', 'queen bed', 'sheets', 'sheets', 'table', 'table', 'twin bed', 'twin bed', 'twin bed', 'twin bed']\n"
     ]
    }
   ],
   "source": [
    "# List methods\n",
    "inventory = [\"twin bed\", \"twin bed\", \"headboard\", \"queen bed\", \"king bed\", \"dresser\", \"dresser\", \"table\", \"table\", \"nightstand\", \"nightstand\", \"king bed\", \"king bed\", \"twin bed\", \"twin bed\", \"sheets\", \"sheets\", \"pillow\", \"pillow\"]\n",
    "\n",
    "inventory_len = len(inventory)\n",
    "\n",
    "first = inventory[0]\n",
    "last = inventory[-1]\n",
    "inventory_2_6 = inventory[2:6]\n",
    "first_3 = inventory[:3]\n",
    "twin_beds = inventory.count(\"twin bed\")\n",
    "removed_item = inventory.pop(4)\n",
    "inventory.insert(10, \"19th Century Bed Frame\")\n",
    "\n",
    "inventory.sort()\n",
    "print(inventory)"
   ]
  },
  {
   "cell_type": "code",
   "execution_count": 3,
   "metadata": {},
   "outputs": [
    {
     "output_type": "stream",
     "name": "stdout",
     "text": [
      "3\n",
      "We sell 7 different kinds of pizza!\n",
      "[[2, 'pepperoni'], [6, 'pineapple'], [1, 'cheese'], [3, 'sausage'], [2, 'olives'], [7, 'anchovies'], [2, 'mushrooms']]\n",
      "[[1, 'cheese'], [2, 'mushrooms'], [2, 'olives'], [2, 'pepperoni'], [3, 'sausage'], [6, 'pineapple'], [7, 'anchovies']]\n",
      "cheese\n",
      "anchovies\n",
      "[[1, 'cheese'], [2, 'mushrooms'], [2, 'olives'], [2, 'pepperoni'], [2.5, 'peppers'], [3, 'sausage'], [6, 'pineapple']]\n",
      "[[1, 'cheese'], [2, 'mushrooms'], [2, 'olives']]\n"
     ]
    }
   ],
   "source": [
    "# Your code below:\n",
    "toppings = [\"pepperoni\", \"pineapple\", \"cheese\", \"sausage\", \"olives\", \"anchovies\", \"mushrooms\"]\n",
    "\n",
    "prices = [2, 6, 1, 3, 2, 7, 2]\n",
    "\n",
    "num_two_dollar_slices = prices.count(2)\n",
    "print(num_two_dollar_slices)\n",
    "\n",
    "num_pizzas = len(toppings)\n",
    "\n",
    "print(\"We sell {} different kinds of pizza!\".format(num_pizzas))\n",
    "\n",
    "pizza_and_prices = [list(a) for a in zip( prices, toppings)]\n",
    "print(pizza_and_prices)\n",
    "\n",
    "pizza_and_prices.sort()\n",
    "print(pizza_and_prices)\n",
    "\n",
    "cheapest_pizza = pizza_and_prices[0][1]\n",
    "print(cheapest_pizza)\n",
    "\n",
    "priciest_pizza = pizza_and_prices[-1][1]\n",
    "print(priciest_pizza)\n",
    "\n",
    "pizza_and_prices.pop()\n",
    "# print(pizza_and_prices)\n",
    "pizza_and_prices += [[2.5, \"peppers\"]]\n",
    "# print(pizza_and_prices)\n",
    "pizza_and_prices.sort()\n",
    "print(pizza_and_prices)\n",
    "\n",
    "three_cheapest = pizza_and_prices[:3]\n",
    "print(three_cheapest)"
   ]
  },
  {
   "cell_type": "code",
   "execution_count": 4,
   "metadata": {},
   "outputs": [
    {
     "output_type": "execute_result",
     "data": {
      "text/plain": [
       "'Tarek'"
      ]
     },
     "metadata": {},
     "execution_count": 4
    }
   ],
   "source": [
    "# Tuples\n",
    "my_info = ('Tarek', 43, \"M&E Officer\")\n",
    "name, age, occupation = my_info\n",
    "name"
   ]
  },
  {
   "cell_type": "code",
   "execution_count": 5,
   "metadata": {},
   "outputs": [],
   "source": [
    "# One element tuple\n",
    "one_element_tuple = (4,)"
   ]
  },
  {
   "cell_type": "code",
   "execution_count": null,
   "metadata": {},
   "outputs": [],
   "source": []
  }
 ]
}