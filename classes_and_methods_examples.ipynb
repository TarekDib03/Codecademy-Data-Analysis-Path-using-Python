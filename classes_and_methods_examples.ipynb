{
 "metadata": {
  "language_info": {
   "codemirror_mode": {
    "name": "ipython",
    "version": 3
   },
   "file_extension": ".py",
   "mimetype": "text/x-python",
   "name": "python",
   "nbconvert_exporter": "python",
   "pygments_lexer": "ipython3",
   "version": "3.7.3-final"
  },
  "orig_nbformat": 2,
  "kernelspec": {
   "name": "python3",
   "display_name": "Python 3.7.3 64-bit ('base': conda)",
   "metadata": {
    "interpreter": {
     "hash": "c1e95ec5d69d2cec95a6932bccd3a4e139eabbe6ae58dfb747c300ffd346fdaf"
    }
   }
  }
 },
 "nbformat": 4,
 "nbformat_minor": 2,
 "cells": [
  {
   "cell_type": "code",
   "execution_count": 1,
   "metadata": {},
   "outputs": [
    {
     "output_type": "stream",
     "name": "stdout",
     "text": [
      "This item is out of stock\n"
     ]
    }
   ],
   "source": [
    "# Define your exception up here:\n",
    "class OutOfStock(Exception):\n",
    "  pass\n",
    "\n",
    "# Update the class below to raise OutOfStock\n",
    "class CandleShop:\n",
    "  name = \"Here's a Hot Tip: Buy Drip Candles\"\n",
    "  def __init__(self, stock):\n",
    "    self.stock = stock\n",
    "    \n",
    "  def buy(self, color):\n",
    "    if self.stock[color] < 1:\n",
    "      raise OutOfStock\n",
    "    \n",
    "    self.stock[color] = self.stock[color] - 1\n",
    "\n",
    "candle_shop = CandleShop({'blue': 6, 'red': 2, 'green': 0})\n",
    "candle_shop.buy('blue')\n",
    "\n",
    "# This should raise OutOfStock:\n",
    "try:\n",
    "  candle_shop.buy('green')\n",
    "except OutOfStock:\n",
    "  print(\"This item is out of stock\")"
   ]
  },
  {
   "cell_type": "code",
   "execution_count": 2,
   "metadata": {},
   "outputs": [],
   "source": [
    "class Message:\n",
    "  def __init__(self, sender, recipient, text):\n",
    "    self.sender = sender\n",
    "    self.recipient = recipient\n",
    "    self.text = text\n",
    "\n",
    "class User:\n",
    "  def __init__(self, username):\n",
    "    self.username = username\n",
    "    \n",
    "  def edit_message(self, message, new_text):\n",
    "    if message.sender == self.username:\n",
    "      message.text = new_text\n",
    "\n",
    "class Admin(User):\n",
    "  def edit_message(self, message, new_text):\n",
    "    message.text = new_text"
   ]
  },
  {
   "cell_type": "code",
   "execution_count": 3,
   "metadata": {},
   "outputs": [],
   "source": [
    "class PotatoSalad:\n",
    "  def __init__(self, potatoes, celery, onions):\n",
    "    self.potatoes = potatoes\n",
    "    self.celery = celery\n",
    "    self.onions = onions\n",
    "\n",
    "class SpecialPotatoSalad(PotatoSalad):\n",
    "  def __init__(self, potatoes, celery, onions):\n",
    "    super().__init__(potatoes, celery, onions)\n",
    "    self.raisins = 40"
   ]
  },
  {
   "cell_type": "code",
   "execution_count": 13,
   "metadata": {},
   "outputs": [
    {
     "output_type": "stream",
     "name": "stdout",
     "text": [
      "Magenta has Color with RGB = (255, 0, 255)\nCyan has Color with RGB = (0, 255, 255)\nYellow has Color with RGB = (255, 255, 0)\nWhite has Color with RGB = (255, 255, 255)\n"
     ]
    }
   ],
   "source": [
    "class Color:\n",
    "  def __init__(self, red, green, blue):\n",
    "    self.red = red\n",
    "    self.green = green\n",
    "    self.blue = blue\n",
    " \n",
    "  # Dunder method to format the outputs\n",
    "  def __repr__(self):\n",
    "    return \"Color with RGB = ({red}, {green}, {blue})\".format(red=self.red, green=self.green, blue=self.blue)\n",
    " \n",
    "  # Python gives us the power to define dunder methods that define a custom-made class to look and behave like a    Python builtin.\n",
    "  def __add__(self, other):\n",
    "    \"\"\"\n",
    "    Adds two RGB colors together\n",
    "    Maximum value is 255\n",
    "    \"\"\"\n",
    "    new_red = min(self.red + other.red, 255)\n",
    "    new_green = min(self.green + other.green, 255)\n",
    "    new_blue = min(self.blue + other.blue, 255)\n",
    " \n",
    "    return Color(new_red, new_green, new_blue)\n",
    " \n",
    "red = Color(255, 0, 0)\n",
    "blue = Color(0, 0, 255)\n",
    "green = Color(0, 255, 0)\n",
    " \n",
    "# Since we defined an __add__ method for our Color class, we will be able to add these objects together using the + operator.\n",
    "magenta = red + blue\n",
    "cyan = green + blue\n",
    "yellow = red + green\n",
    "white = red + green + blue\n",
    "print(\"Magenta has {}\\nCyan has {}\\nYellow has {}\\nWhite has {}\".format(magenta, cyan, yellow, white))"
   ]
  },
  {
   "cell_type": "code",
   "execution_count": 20,
   "metadata": {},
   "outputs": [
    {
     "output_type": "stream",
     "name": "stdout",
     "text": [
      "NaCl\n"
     ]
    }
   ],
   "source": [
    "class Atom:\n",
    "  def __init__(self, label):\n",
    "    self.label = label\n",
    "  \n",
    "  def __add__(self, other):\n",
    "    return Molecule([self, other])\n",
    "    \n",
    "class Molecule:\n",
    "    def __init__(self, atoms):\n",
    "        if type(atoms) is list:\n",
    "            self.atoms = atoms\n",
    "\n",
    "    def __repr__(self):\n",
    "        s = \"\"\n",
    "        for x in self.atoms:\n",
    "            s += x.label\n",
    "        return s\n",
    "      \n",
    "sodium = Atom(\"Na\")\n",
    "chlorine = Atom(\"Cl\")\n",
    "salt = Molecule([sodium, chlorine])\n",
    "salt = sodium + chlorine\n",
    "print(salt)"
   ]
  },
  {
   "cell_type": "code",
   "execution_count": 29,
   "metadata": {},
   "outputs": [
    {
     "output_type": "stream",
     "name": "stdout",
     "text": [
      "NaCl\n"
     ]
    }
   ],
   "source": [
    "# No need for the .__repr__ method in the Molecule class. Use the following string format to print out salt\n",
    "print (f\"{salt.atoms[0].label}{salt.atoms[1].label}\")"
   ]
  },
  {
   "cell_type": "code",
   "execution_count": 27,
   "metadata": {},
   "outputs": [
    {
     "output_type": "stream",
     "name": "stdout",
     "text": [
      "NaCl\n"
     ]
    }
   ],
   "source": [
    "print(salt.atoms[0].label+salt.atoms[1].label)"
   ]
  },
  {
   "cell_type": "code",
   "execution_count": 32,
   "metadata": {},
   "outputs": [
    {
     "output_type": "stream",
     "name": "stdout",
     "text": [
      "3\ndiana\nfrank\njenn\n"
     ]
    }
   ],
   "source": [
    "class UserGroup:\n",
    "\n",
    "    \"\"\"\n",
    "    __init__(), our constructor, which sets a list of users to the instance variable self.user_list and sets the    group’s permissions when we create a new UserGroup.\n",
    "    __iter__, the iterator, we use the iter() function to turn the list self.user_list into an iterator so we        can use for user in user_group syntax. \n",
    "    __len__, the length method, so when we call len(user_group) it will return the length of the underlying          self.user_list list.\n",
    "    __contains__, the check for containment, allows us to use user in user_group syntax to check if a User           exists in the user_list we have.\n",
    "    \"\"\"\n",
    "    def __init__(self, users, permissions):\n",
    "        self.user_list = users\n",
    "        self.permissions = permissions\n",
    " \n",
    "    def __iter__(self):\n",
    "        return iter(self.user_list)\n",
    " \n",
    "    def __len__(self):\n",
    "        return len(self.user_list)\n",
    " \n",
    "    def __contains__(self, user):\n",
    "        return user in self.user_list\n",
    "\n",
    "class User:\n",
    "    def __init__(self, username):\n",
    "        self.username = username\n",
    "\n",
    "# Example\n",
    "diana = User('diana')\n",
    "frank = User('frank')\n",
    "jenn = User('jenn')\n",
    " \n",
    "can_edit = UserGroup([diana, frank, jenn], {'can_edit_page': True})\n",
    "can_delete = UserGroup([diana, jenn], {'can_delete_posts': True})\n",
    " \n",
    "print(len(can_edit))\n",
    " \n",
    "for user in can_edit:\n",
    "    print(user.username)\n",
    " \n",
    "if frank in can_delete:\n",
    "    print(\"Since when do we allow Frank to delete things? Does no one remember when he accidentally deleted the site?\")\n"
   ]
  },
  {
   "cell_type": "code",
   "execution_count": 1,
   "metadata": {},
   "outputs": [
    {
     "output_type": "stream",
     "name": "stdout",
     "text": [
      "[1, 2, 2, 3, 3, 6, 10, 12, 44, 88, 777]\n"
     ]
    }
   ],
   "source": [
    "class SortedList(list):\n",
    "  def append(self, value):\n",
    "    super().append(value)\n",
    "    return self.sort()\n",
    "\n",
    "lst = SortedList([1,10,3,6,2,88,2,44,3,12])\n",
    "lst.append(777)\n",
    "print(lst)"
   ]
  },
  {
   "cell_type": "code",
   "execution_count": null,
   "metadata": {},
   "outputs": [],
   "source": []
  }
 ]
}