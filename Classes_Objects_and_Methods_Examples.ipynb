{
 "metadata": {
  "language_info": {
   "codemirror_mode": {
    "name": "ipython",
    "version": 3
   },
   "file_extension": ".py",
   "mimetype": "text/x-python",
   "name": "python",
   "nbconvert_exporter": "python",
   "pygments_lexer": "ipython3",
   "version": "3.7.3-final"
  },
  "orig_nbformat": 2,
  "kernelspec": {
   "name": "python3",
   "display_name": "Python 3.7.3 64-bit ('base': conda)",
   "metadata": {
    "interpreter": {
     "hash": "c1e95ec5d69d2cec95a6932bccd3a4e139eabbe6ae58dfb747c300ffd346fdaf"
    }
   }
  }
 },
 "nbformat": 4,
 "nbformat_minor": 2,
 "cells": [
  {
   "cell_type": "code",
   "execution_count": 5,
   "metadata": {},
   "outputs": [
    {
     "output_type": "stream",
     "name": "stdout",
     "text": [
      "New circle with diameter: 36\n"
     ]
    }
   ],
   "source": [
    "class Circle:\n",
    "    pi = 3.14\n",
    "    \n",
    "    # Add constructor here:\n",
    "    def __init__(self, diameter):\n",
    "        print(\"New circle with diameter: {}\".format(diameter))\n",
    "\n",
    "teaching_table = Circle(36)"
   ]
  },
  {
   "cell_type": "code",
   "execution_count": 6,
   "metadata": {},
   "outputs": [
    {
     "output_type": "stream",
     "name": "stdout",
     "text": [
      "There are two stores available: Alternative Rocks and Isabelle's Ices\n"
     ]
    }
   ],
   "source": [
    "# Instance variables\n",
    "class Store:\n",
    "  pass\n",
    "\n",
    "alternative_rocks = Store()\n",
    "isabelles_ices = Store()\n",
    "\n",
    "alternative_rocks.store_name = \"Alternative Rocks\"\n",
    "isabelles_ices.store_name = \"Isabelle's Ices\"\n",
    "\n",
    "print(\"There are two stores available: {} and {}\".format(alternative_rocks.store_name, isabelles_ices.store_name))"
   ]
  },
  {
   "cell_type": "code",
   "execution_count": 7,
   "metadata": {},
   "outputs": [
    {
     "output_type": "stream",
     "name": "stdout",
     "text": [
      "<class 'dict'> does not have the count attribute :(\n<class 'str'> has the count attribute!\n<class 'int'> does not have the count attribute :(\n<class 'list'> has the count attribute!\n"
     ]
    }
   ],
   "source": [
    "# Attribute Functions\n",
    "can_we_count_it = [{'s': False}, \"sassafrass\", 18, [\"a\", \"c\", \"s\", \"d\", \"s\"]]\n",
    "\n",
    "for element in can_we_count_it:\n",
    "  if hasattr(element, \"count\"):\n",
    "    print(str(type(element)) + \" has the count attribute!\")\n",
    "  else:\n",
    "    print(str(type(element)) + \" does not have the count attribute :(\")"
   ]
  },
  {
   "source": [
    "### The Circle Class Example"
   ],
   "cell_type": "markdown",
   "metadata": {}
  },
  {
   "cell_type": "code",
   "execution_count": 8,
   "metadata": {},
   "outputs": [
    {
     "output_type": "stream",
     "name": "stdout",
     "text": [
      "Creating circle with diameter 12\nCreating circle with diameter 36\nCreating circle with diameter 11460\n37.68\n113.04\n35984.4\n"
     ]
    }
   ],
   "source": [
    "class Circle:\n",
    "  pi = 3.14\n",
    "  \n",
    "  # Constructor: input is the diameter\n",
    "  def __init__(self, diameter):\n",
    "    print(\"Creating circle with diameter {d}\".format(d=diameter))\n",
    "    # Add assignment for self.radius here:\n",
    "    self.radius = diameter / 2\n",
    "  \n",
    "  # Circumference method\n",
    "  def circumference(self):\n",
    "    return 2 * self.pi * self.radius\n",
    "\n",
    "# Examples\n",
    "medium_pizza = Circle(12)\n",
    "teaching_table = Circle(36)\n",
    "round_room = Circle(11460)\n",
    "\n",
    "print(medium_pizza.circumference())\n",
    "print(teaching_table.circumference())\n",
    "print(round_room.circumference())"
   ]
  },
  {
   "cell_type": "code",
   "execution_count": 10,
   "metadata": {},
   "outputs": [
    {
     "output_type": "stream",
     "name": "stdout",
     "text": [
      "Circle with radius 6.0\nCircle with radius 18.0\nCircle with radius 5730.0\n"
     ]
    }
   ],
   "source": [
    "class Circle:\n",
    "  pi = 3.14\n",
    "  \n",
    "  def __init__(self, diameter):\n",
    "    self.radius = diameter / 2\n",
    "  \n",
    "  def area(self):\n",
    "    return self.pi * self.radius ** 2\n",
    "  \n",
    "  def circumference(self):\n",
    "    return self.pi * 2 * self.radius\n",
    "  \n",
    "  def __repr__(self):\n",
    "    return \"Circle with radius {}\".format(self.radius)\n",
    "  \n",
    "medium_pizza = Circle(12)\n",
    "teaching_table = Circle(36)\n",
    "round_room = Circle(11460)\n",
    "\n",
    "print(medium_pizza)\n",
    "print(teaching_table)\n",
    "print(round_room)"
   ]
  },
  {
   "source": [
    "### Student and Grade Classes - Example"
   ],
   "cell_type": "markdown",
   "metadata": {}
  },
  {
   "cell_type": "code",
   "execution_count": 11,
   "metadata": {},
   "outputs": [
    {
     "output_type": "stream",
     "name": "stdout",
     "text": [
      "Pieter Bruegel the Elder passed the class and received an average grade of 70.0 \n\nSandro Botticelli was available on Wednesday\n"
     ]
    }
   ],
   "source": [
    "# Class Student\n",
    "class Student:\n",
    "  def __init__(self, name, year, day):\n",
    "    \n",
    "    # Instances\n",
    "    self.name = name\n",
    "    self.year = year\n",
    "    self.day = day\n",
    "    \n",
    "    # Instance of an empty list \n",
    "    self.grades = []\n",
    "    # A dictonary instance\n",
    "    self.attendance ={\n",
    "      \"Monday\": True,\n",
    "      \"Tuesday\": True,\n",
    "      \"Wednesday\": True,\n",
    "      \"Thursday\": True,\n",
    "      \"Friday\": False\n",
    "    }\n",
    "  \n",
    "  # A method to add students' grades if the grade is of type Grade\n",
    "  def add_grade(self, grade):\n",
    "    if type(grade) == Grade:\n",
    "      self.grades.append(grade)\n",
    "  \n",
    "  # A method to calculate the average grade of students\n",
    "  def get_average(self):\n",
    "    x = 0\n",
    "    for i in self.grades:\n",
    "      x += i.score  \n",
    "    return x / len(self.grades)\n",
    "\n",
    "  def availability(self):\n",
    "    for key, val in self.attendance.items():\n",
    "      if key == self.day:\n",
    "        return val\n",
    "  \n",
    "  def __repr__(self):\n",
    "    return f\"Name: {self.name}\\nYear: {self.year}\\nGrade: {self.get_average()}\"\n",
    "\n",
    "class Grade:\n",
    "  # Define the minimum grade to be 65\n",
    "  minimum_passing = 65\n",
    "  \n",
    "  def __init__(self, score):\n",
    "    self.score = score\n",
    "  \n",
    "  def is_passing(self):\n",
    "    if self.score >= Grade.minimum_passing:\n",
    "      return True\n",
    "    return False\n",
    "\n",
    "roger = Student(\"Roger van der Weyden\", 10, 'Tuesday')\n",
    "sandro = Student(\"Sandro Botticelli\", 12, 'Wednesday')\n",
    "pieter = Student(\"Pieter Bruegel the Elder\", 8, 'Friday')\n",
    "\n",
    "pieter.add_grade(Grade(100))\n",
    "pieter.add_grade(Grade(50))\n",
    "pieter.add_grade(Grade(60))\n",
    "\n",
    "# Did Peter pass the class?\n",
    "pieter_score = pieter.get_average()\n",
    "pieter_result = Grade(pieter_score)\n",
    "if pieter_result.is_passing():\n",
    "  print(\"{} passed the class and received an average grade of {} \".format(pieter.name, pieter.get_average()))\n",
    "else:\n",
    "  print(\"{} did not pass the class\".format(pieter.name))\n",
    "print('')\n",
    "if sandro.availability():\n",
    "  print('{} was available on {}'.format(sandro.name, sandro.day))\n",
    "else:\n",
    "  print('{} was not available on {}'.format(sandro.name, sandro.day))"
   ]
  },
  {
   "cell_type": "code",
   "execution_count": null,
   "metadata": {},
   "outputs": [],
   "source": []
  }
 ]
}