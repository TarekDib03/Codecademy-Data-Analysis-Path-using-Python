{
 "metadata": {
  "language_info": {
   "codemirror_mode": {
    "name": "ipython",
    "version": 3
   },
   "file_extension": ".py",
   "mimetype": "text/x-python",
   "name": "python",
   "nbconvert_exporter": "python",
   "pygments_lexer": "ipython3",
   "version": "3.7.3"
  },
  "orig_nbformat": 2,
  "kernelspec": {
   "name": "python3",
   "display_name": "Python 3.7.3 64-bit ('base': conda)",
   "metadata": {
    "interpreter": {
     "hash": "c1e95ec5d69d2cec95a6932bccd3a4e139eabbe6ae58dfb747c300ffd346fdaf"
    }
   }
  }
 },
 "nbformat": 4,
 "nbformat_minor": 2,
 "cells": [
  {
   "source": [
    "### Business Class"
   ],
   "cell_type": "markdown",
   "metadata": {}
  },
  {
   "cell_type": "code",
   "execution_count": 5,
   "metadata": {},
   "outputs": [],
   "source": [
    "# The class includes the name of the business and a list of franchises\n",
    "class Business:\n",
    "    def __init__(self, name, franchises):\n",
    "        self.name = name\n",
    "        self.franchises = franchises"
   ]
  },
  {
   "source": [
    "### Franchise Class"
   ],
   "cell_type": "markdown",
   "metadata": {}
  },
  {
   "cell_type": "code",
   "execution_count": 33,
   "metadata": {},
   "outputs": [],
   "source": [
    "# The class includes the address of the franchise and a list of menus and their availability\n",
    "class Franchise:\n",
    "    def __init__(self, address, menus):\n",
    "        self.address = address\n",
    "        self.menus = menus\n",
    "    \n",
    "    def __repr__(self):\n",
    "        return self.address\n",
    "\n",
    "    def available_menus(self, time):\n",
    "        avialable_menus = []\n",
    "\n",
    "        for menu in menus:\n",
    "            if time >= menu.start_time and time <= menu.end_time:\n",
    "                avialable_menus.append(menu)\n",
    "        return avialable_menus"
   ]
  },
  {
   "source": [
    "### Menu Class"
   ],
   "cell_type": "markdown",
   "metadata": {}
  },
  {
   "cell_type": "code",
   "execution_count": 34,
   "metadata": {},
   "outputs": [],
   "source": [
    "# The class includes the name of the menu, the items in each menu, the time that the menu is availbale\n",
    "class Menu:\n",
    "    def __init__(self, name, items, start_time, end_time):\n",
    "        self.name = name\n",
    "        self.items = items\n",
    "        self.start_time = start_time\n",
    "        self.end_time = end_time\n",
    "\n",
    "    def __repr__(self):\n",
    "        return \"{} menu is vailable {} - {}\".format(self.name, self.start_time, self.end_time)\n",
    "    \n",
    "    def calculate_bill(self, purchased_items):\n",
    "        bill = 0\n",
    "\n",
    "        for purchased_item in purchased_items:\n",
    "            if purchased_item in self.items:\n",
    "                bill += self.items[purchased_item]\n",
    "        return bill  "
   ]
  },
  {
   "source": [
    "### Menus"
   ],
   "cell_type": "markdown",
   "metadata": {}
  },
  {
   "cell_type": "code",
   "execution_count": 35,
   "metadata": {},
   "outputs": [],
   "source": [
    "# Brunch menu\n",
    "brunch_items = {\n",
    "  'pancakes': 7.50, 'waffles': 9.00, 'burger': 11.00, 'home fries': 4.50, 'coffee': 1.50, 'espresso': 3.00, 'tea': 1.00, 'mimosa': 10.50, 'orange juice': 3.50\n",
    "}\n",
    "brunch_menu = Menu('Brunch', brunch_items, 1100, 1600)\n",
    "\n",
    "# Early bird menu\n",
    "early_bird_items = {\n",
    "  'salumeria plate': 8.00, 'salad and breadsticks (serves 2, no refills)': 14.00, 'pizza with quattro formaggi': 9.00, 'duck ragu': 17.50, 'mushroom ravioli (vegan)': 13.50, 'coffee': 1.50, 'espresso': 3.00,\n",
    "}\n",
    "early_bird_menu = Menu('Early Bird', early_bird_items, 1500, 1800)\n",
    "\n",
    "# Dinner menu\n",
    "dinner_items = {\n",
    "  'crostini with eggplant caponata': 13.00, 'ceaser salad': 16.00, 'pizza with quattro formaggi': 11.00, 'duck ragu': 19.50, 'mushroom ravioli (vegan)': 13.50, 'coffee': 2.00, 'espresso': 3.00,\n",
    "}\n",
    "dinner_menu = Menu('Dinner', dinner_items, 1700, 2300)\n",
    "\n",
    "# Kids menu\n",
    "kids_items = {\n",
    "  'chicken nuggets': 6.50, 'fusilli with wild mushrooms': 12.00, 'apple juice': 3.00\n",
    "}\n",
    "kids_menu = Menu('Kids', kids_items, 1100, 2100)"
   ]
  },
  {
   "cell_type": "code",
   "execution_count": 36,
   "metadata": {},
   "outputs": [
    {
     "output_type": "stream",
     "name": "stdout",
     "text": [
      "Brunch menu is vailable 1100 - 1600\n\nThe bill of the ordered items is $13.5\n"
     ]
    }
   ],
   "source": [
    "# Test the Menu class\n",
    "print(brunch_menu)\n",
    "print('')\n",
    "# We have a breakfast order for one order of pancakes, one order of home fries, and one coffee. Pass that into brunch_menu.calculate_bill()\n",
    "print(\"The bill of the ordered items is ${}\".format(brunch_menu.calculate_bill(['pancakes', 'home fries', 'coffee'])))"
   ]
  },
  {
   "source": [
    "### Franchises"
   ],
   "cell_type": "markdown",
   "metadata": {}
  },
  {
   "cell_type": "code",
   "execution_count": 38,
   "metadata": {},
   "outputs": [
    {
     "output_type": "stream",
     "name": "stdout",
     "text": [
      "1232 West End Road\n\n[Dinner menu is vailable 1700 - 2300]\n"
     ]
    }
   ],
   "source": [
    "menus = [brunch_menu, early_bird_menu, dinner_menu, kids_menu]\n",
    "flagship_store = Franchise(\"1232 West End Road\", menus)\n",
    "new_installment = Franchise(\"12 East Mulberry Street\", menus)\n",
    "\n",
    "# Test\n",
    "print(flagship_store.address)\n",
    "print('')\n",
    "print(flagship_store.available_menus(2300))"
   ]
  },
  {
   "source": [
    "### Businesses"
   ],
   "cell_type": "markdown",
   "metadata": {}
  },
  {
   "cell_type": "code",
   "execution_count": 49,
   "metadata": {},
   "outputs": [
    {
     "output_type": "stream",
     "name": "stdout",
     "text": [
      "Take a’ Arepa menu is vailable 1000 - 2000\n\nArepa is located at 189 Fitzgerald Avenue\n"
     ]
    }
   ],
   "source": [
    "basta = Business(\"Basta Fazoolin' with my Heart\", [flagship_store, new_installment])\n",
    "\n",
    "arepa_items = {'arepa pabellon': 7.00, 'pernil arepa': 8.50, 'guayanes arepa': 8.00, 'jamon arepa': 7.50}\n",
    "arepas_menu = Menu(\"Take a’ Arepa\", arepa_items, 1000, 2000)\n",
    "arepas_place = Franchise(\"189 Fitzgerald Avenue\", [arepas_menu])\n",
    "arepa = Business(\"Take a' Arepa\", [arepas_place])\n",
    "# Check\n",
    "print(arepa.franchises[0].menus[0])\n",
    "print('')\n",
    "print(\"Arepa is located at {}\".format(arepa.franchises[0]))"
   ]
  },
  {
   "cell_type": "code",
   "execution_count": 53,
   "metadata": {},
   "outputs": [
    {
     "output_type": "stream",
     "name": "stdout",
     "text": [
      "{'arepa pabellon': 7.0, 'pernil arepa': 8.5, 'guayanes arepa': 8.0, 'jamon arepa': 7.5}\n"
     ]
    }
   ],
   "source": [
    "print(arepas_menu.items)"
   ]
  },
  {
   "cell_type": "code",
   "execution_count": null,
   "metadata": {},
   "outputs": [],
   "source": []
  }
 ]
}